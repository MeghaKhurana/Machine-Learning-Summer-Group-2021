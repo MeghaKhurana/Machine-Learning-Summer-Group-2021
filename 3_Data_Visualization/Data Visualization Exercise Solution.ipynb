{
 "cells": [
  {
   "cell_type": "markdown",
   "metadata": {},
   "source": [
    "# DATA VISUALIZATION EXERCISE SOLUTION\n",
    "<hr style=\"height:5px;border-width:2;color:gray\">"
   ]
  },
  {
   "cell_type": "markdown",
   "metadata": {},
   "source": [
    "Import NumPy, Pandas, matplotlib and seaborn"
   ]
  },
  {
   "cell_type": "code",
   "execution_count": null,
   "metadata": {},
   "outputs": [],
   "source": [
    "import numpy as np\n",
    "import pandas as pd\n",
    "import matplotlib.pyplot as plt\n",
    "import seaborn as sns"
   ]
  },
  {
   "cell_type": "markdown",
   "metadata": {},
   "source": [
    "## MATPLOTLIB"
   ]
  },
  {
   "cell_type": "markdown",
   "metadata": {},
   "source": [
    "### Instructions:\n",
    "<b>Create a new figure with size (10,10) with 4 subplots and plot the following in their respective subplots.</b>\n",
    "<ol>\n",
    "    <li><b>(0,0)</b>: Plot the curve $y = 2x^2 + 3$ in dotted red.</li>\n",
    "    <li><b>(0,1)</b>: Plot the curves $y = x$ and $y = x^2$, and fill the area between them in blue color with an opacity of 0.25.</li>\n",
    "    <li><b>(1,0)</b>: Scatter a sine (opacity 0.7) curve with domain $[0,10]$ with 50 points and adding random noise (with normal diatribution). Also draw the best fit sine curve in the same plot in red.</li>\n",
    "    <li><b>(1,1)</b>: Draw a scatter plot of $y = x$  $[1,10]$ with their size being square of their ordinates.</li>\n",
    "</ol>\n",
    "Add a figure title as \"Different plots\" and add suitable title to each subplot. Add suitable legends to the subplots with more than one plot. Also adjust spacing between plots if required."
   ]
  },
  {
   "cell_type": "code",
   "execution_count": null,
   "metadata": {},
   "outputs": [],
   "source": [
    "#Creating subplots\n",
    "fig, axes = plt.subplots(2,2, figsize = (10,10))\n",
    "fig.suptitle(\"Different plots\")\n",
    "\n",
    "#1st subplot\n",
    "x = np.arange(-10,11)\n",
    "y = 2*x**2 + 3\n",
    "axes[0,0].plot(x,y,':r')\n",
    "axes[0,0].set_title(\"$y = 2x^2 + 3$\")\n",
    "\n",
    "#2nd subplot\n",
    "x = np.arange(0,11)\n",
    "y1 = x\n",
    "y2 = x**2\n",
    "axes[0,1].plot(x,y1,x,y2)\n",
    "axes[0,1].fill_between(x, y1, y2, facecolor = 'blue', alpha = 0.25)\n",
    "axes[0,1].set_title(\"$y=x^2$ and $y=x$\")\n",
    "axes[0,1].legend([\"$y=x$\",\"$y=x^2$\"])\n",
    "\n",
    "#3rd subplot\n",
    "x = np.linspace(0,10,50)\n",
    "y_best = np.sin(x)\n",
    "y = y_best + np.random.randn(50)\n",
    "sca = axes[1,0].scatter(x,y, alpha = 0.7)\n",
    "lin, = axes[1,0].plot(x,y_best, 'r')\n",
    "axes[1,0].set_title(\"Sine\")\n",
    "axes[1,0].legend([sca, lin], [\"Scatter\", \"Best fit\"])\n",
    "\n",
    "#4th subplot\n",
    "x = np.arange(1,11)\n",
    "y = x\n",
    "axes[1,1].scatter(x, y, s = x**4, alpha = 0.5)\n",
    "axes[1,1].set_title(\"Exponential scatter\")\n",
    "\n",
    "#Adjusting spacing\n",
    "fig.subplots_adjust(hspace = 0.3, wspace = 0.3)"
   ]
  },
  {
   "cell_type": "markdown",
   "metadata": {},
   "source": [
    "## PANDAS VISUALIZATION"
   ]
  },
  {
   "cell_type": "markdown",
   "metadata": {},
   "source": [
    "### Load the dataset <code>titanic</code> from seaborn into a dataframe called titanic and view and get info about it."
   ]
  },
  {
   "cell_type": "code",
   "execution_count": null,
   "metadata": {},
   "outputs": [],
   "source": [
    "titanic = sns.load_dataset('titanic')\n",
    "titanic.head()"
   ]
  },
  {
   "cell_type": "code",
   "execution_count": null,
   "metadata": {},
   "outputs": [],
   "source": [
    "titanic.info()"
   ]
  },
  {
   "cell_type": "markdown",
   "metadata": {},
   "source": [
    "### Plot histograms to show distribution of <code>age</code> of passengers by <code>sex</code>\n",
    "<b>Note</b>:\n",
    "<ul>\n",
    "    <li>Let the bin count be 10 for both male and female.</li>\n",
    "    <li>Change opacity to make the histograms clear.</li>\n",
    "    <li>Add suitable title, axes labels and legend.</li>\n",
    "</ul>"
   ]
  },
  {
   "cell_type": "code",
   "execution_count": null,
   "metadata": {},
   "outputs": [],
   "source": [
    "plt.figure()\n",
    "\n",
    "titanic[titanic['sex'] == 'male']['age'].plot.hist(bins = 10, alpha = 0.5)\n",
    "titanic[titanic['sex'] == 'female']['age'].plot.hist(bins = 10, alpha = 0.5)\n",
    "\n",
    "plt.xlabel(\"Age\")\n",
    "plt.ylabel(\"Number of passengers\")\n",
    "plt.legend(['male', 'female'])\n",
    "plt.title(\"Distribution of age of passengers by sex\")"
   ]
  },
  {
   "cell_type": "markdown",
   "metadata": {},
   "source": [
    "### Plot a pie chart to show distribution of passenger by <code>embark_town</code>"
   ]
  },
  {
   "cell_type": "code",
   "execution_count": null,
   "metadata": {},
   "outputs": [],
   "source": [
    "plt.figure()\n",
    "titanic['embark_town'].value_counts().plot.pie(colormap = 'tab20b')\n",
    "plt.title(\"Pie chart of embark_town\")\n",
    "plt.ylabel(\"\"); #Removing ylabel"
   ]
  },
  {
   "cell_type": "markdown",
   "metadata": {},
   "source": [
    "## SEABORN"
   ]
  },
  {
   "cell_type": "markdown",
   "metadata": {},
   "source": [
    "### Recreate the following figure : <a href = \"https://pasteboard.co/J7Uf716.jpg\">Link</a>\n",
    "<b>Hint</b>: It can be drawn using a single line of code. Looking at seaborn documentation for different plots might help."
   ]
  },
  {
   "cell_type": "code",
   "execution_count": null,
   "metadata": {},
   "outputs": [],
   "source": [
    "sns.jointplot(x='fare',y='age',data=titanic, height = 7);"
   ]
  },
  {
   "cell_type": "markdown",
   "metadata": {},
   "source": [
    "### Plot a correlation heatmap for the titanic dataset\n",
    "A correlation heatmap shows how different features are correlated to each other.<br>\n",
    "Use a different colormap than the default one. Chose one from <a href = \"https://matplotlib.org/tutorials/colors/colormaps.html\">these</a>. Also show the corresponding correlation values in the corresponding grids.<br>(Your heatmap may look broken in the y axis. Try fixing the issue on your own)"
   ]
  },
  {
   "cell_type": "code",
   "execution_count": null,
   "metadata": {},
   "outputs": [],
   "source": [
    "ax = sns.heatmap(titanic.corr(), annot = True, cmap = 'viridis')\n",
    "plt.title(\"Titanic Correlation heatmap\")\n",
    "\n",
    "#Fixing broken heatmap\n",
    "top, bottom = ax.get_ylim()\n",
    "ax.set_ylim([top+0.5, bottom-0.5]);"
   ]
  }
 ],
 "metadata": {
  "kernelspec": {
   "display_name": "Python 3",
   "language": "python",
   "name": "python3"
  },
  "language_info": {
   "codemirror_mode": {
    "name": "ipython",
    "version": 3
   },
   "file_extension": ".py",
   "mimetype": "text/x-python",
   "name": "python",
   "nbconvert_exporter": "python",
   "pygments_lexer": "ipython3",
   "version": "3.7.4"
  }
 },
 "nbformat": 4,
 "nbformat_minor": 2
}
